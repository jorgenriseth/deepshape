{
 "cells": [
  {
   "cell_type": "code",
   "execution_count": 89,
   "id": "delayed-peace",
   "metadata": {},
   "outputs": [
    {
     "name": "stdout",
     "output_type": "stream",
     "text": [
      "The autoreload extension is already loaded. To reload it, use:\n",
      "  %reload_ext autoreload\n"
     ]
    }
   ],
   "source": [
    "%load_ext autoreload\n",
    "%autoreload 2"
   ]
  },
  {
   "cell_type": "code",
   "execution_count": 90,
   "id": "tough-jason",
   "metadata": {},
   "outputs": [],
   "source": [
    "import torch\n",
    "import matplotlib.pyplot as plt\n",
    "\n",
    "from numpy import pi, inf, exp\n",
    "from torch import sin\n",
    "from torch.autograd import grad"
   ]
  },
  {
   "cell_type": "code",
   "execution_count": 91,
   "id": "expanded-exhaust",
   "metadata": {},
   "outputs": [],
   "source": [
    "def torch_nth_derivative(f, x, n):\n",
    "    \"\"\"Compute n-th order derivative of a function f: R -> R at the \n",
    "    points x in R.\n",
    "    \"\"\"\n",
    "    if x.requires_grad:\n",
    "        detach = False\n",
    "    else:\n",
    "        detach = True\n",
    "        x.requires_grad = True\n",
    "    \n",
    "    g = f(x).sum()\n",
    "    dx = f(x)\n",
    "\n",
    "    for i in range(n):\n",
    "        dx = grad(g, x, create_graph=True)[0]\n",
    "        g = dx.sum()\n",
    "        \n",
    "    if detach:\n",
    "        x.requires_grad = False\n",
    "        return dx.detach()\n",
    "    \n",
    "    return dx\n",
    "\n",
    "class SineVectorField:\n",
    "    def __init__(self, weights):\n",
    "        self.d = weights.numel()\n",
    "        self.N = torch.arange(1, self.d+1, dtype=torch.float32)\n",
    "        self.weights = weights.float()\n",
    "        \n",
    "    def __call__(self, x):\n",
    "        return (self.weights * torch.sin(pi * self.N * x) / (pi * self.N)).sum(dim=-1, keepdims=True)\n",
    "\n",
    "    \n",
    "class ComposedVectorfield:\n",
    "    def __init__(self, vector_field_collection):\n",
    "        self.collection = vector_field_collection\n",
    "        \n",
    "    def __call__(self, x):\n",
    "        y = x\n",
    "        for fl in self.collection:\n",
    "            y = y + fl(y)\n",
    "        return y - x\n",
    "    \n",
    "    def get_weight_matrix(self):\n",
    "        return torch.stack([fi.weights for fi in self.collection])\n",
    "\n",
    "def approx_max_norm(f, k, npoints=int(1e4)):\n",
    "    xx = torch.linspace(0, 1, npoints).view(-1, 1)\n",
    "    df = torch_nth_derivative(f, xx, n=k)\n",
    "    return torch.abs(df).max()\n",
    "\n",
    "def one_hot(i, N):\n",
    "    vec = torch.zeros(N)\n",
    "    vec[i] = 1.\n",
    "    return vec\n",
    "\n",
    "def scale_weights_loose_common(W, k):\n",
    "    L, d = W.shape\n",
    "    N = torch.arange(1, d+1) \n",
    "    \n",
    "    scalar = (torch.abs(W) * (N * pi)**(k-1)).sum()\n",
    "    if scalar >= 1 - 1e-8:\n",
    "        W *= (1-1e-8) / scalar\n",
    "        \n",
    "    return W\n",
    "\n",
    "def scale_weights_loose_separate(W, k):\n",
    "    L, d = W.shape\n",
    "    N = torch.arange(1, d+1)\n",
    "    \n",
    "    for wi in W:\n",
    "        scalar = (torch.abs(wi) * (N * pi)**(k-1)).sum()\n",
    "        if scalar >= 1. / L - 1e-8:\n",
    "            wi *= (1./L - 1e-8) / scalar\n",
    "    \n",
    "    return W\n",
    "\n",
    "def scale_weights_tight_common(W, k):\n",
    "    L, d = W.shape\n",
    "    N = torch.arange(1, d+1)\n",
    "    \n",
    "    # Create vector field collection\n",
    "    F = ComposedVectorfield([SineVectorField(wi) for wi in W])\n",
    "    \n",
    "    # Compute the sum of the C^k-norms for the different vector fields\n",
    "    scalar = torch.stack([approx_max_norm(fi, k=k) for fi in F.collection])\n",
    "    scalar = float(scalar.sum())\n",
    "    if scalar >= 1 - 1e-8:\n",
    "        W *= (1-1e-8) / scalar\n",
    "    \n",
    "    return W\n",
    "\n",
    "def scale_weights_tight_separate(W, k):\n",
    "    L, d = W.shape\n",
    "    N = torch.arange(1, d+1)\n",
    "    \n",
    "    # Compute the sum of the C^k-norms for the different vector fields\n",
    "    for wi in W:\n",
    "        scalar = approx_max_norm(SineVectorField(wi), k=k)\n",
    "        if scalar >= 1. / L - 1e-8:\n",
    "            wi *= (1./L - 1e-8) / scalar\n",
    "    \n",
    "    return W\n",
    "\n",
    "def create_weights_ones(L, d):\n",
    "    return torch.ones(L, d)\n",
    "\n",
    "\n",
    "def create_weights_sample_uniform(L, d):\n",
    "    return torch.rand(L, d)\n",
    "\n",
    "\n",
    "def build_weights_sample_normal(mean, std):    \n",
    "    def create_weights_sample_normal(L, d):\n",
    "        return mean + std * torch.randn(L, d)\n",
    "    return create_weights_sample_normal\n",
    "\n",
    "\n",
    "def compute_bound_practical(L, d, k, weight_creation, weight_projection):\n",
    "    W = weight_creation(L, d)\n",
    "    W = weight_projection(W, k)\n",
    "    \n",
    "    F = ComposedVectorfield([SineVectorField(torch.clone(wi)) for wi in W])\n",
    "    field_sum = torch.stack([approx_max_norm(fi, k=k) for fi in F.collection])\n",
    "    field_sum = float(field_sum.sum())    \n",
    "    return approx_max_norm(F, k) / (exp(k) * field_sum)\n",
    "\n",
    "\n",
    "def reduce_compute_bound_practical(weight_creation, weight_projection):\n",
    "    def f(L, d, k):\n",
    "        return compute_bound_practical(L, d, k, weight_creation, weight_projection)\n",
    "    return f"
   ]
  },
  {
   "cell_type": "markdown",
   "id": "downtown-stake",
   "metadata": {},
   "source": [
    "## Weight: Ones, Projection: Separate Loose"
   ]
  },
  {
   "cell_type": "code",
   "execution_count": 105,
   "id": "confidential-reason",
   "metadata": {},
   "outputs": [
    {
     "data": {
      "image/png": "[encoded data removed]",
      "text/plain": [
       "<Figure size 640x480 with 1 Axes>"
      ]
     },
     "metadata": {},
     "output_type": "display_data"
    }
   ],
   "source": [
    "k = 4\n",
    "d = 6\n",
    "M = Mk[k-1]\n",
    "\n",
    "values = [compute_bound_practical(l, d, k, create_weights_ones, scale_weights_tight_common) for l in range(1, 10)]\n",
    "    \n",
    "plt.figure()\n",
    "plt.semilogy(range(1, 10), values)\n",
    "plt.axhline(M, c='k', ls='--')\n",
    "plt.show()"
   ]
  },
  {
   "cell_type": "code",
   "execution_count": 106,
   "id": "legislative-solomon",
   "metadata": {},
   "outputs": [
    {
     "data": {
      "image/png": "[encoded data removed]",
      "text/plain": [
       "<Figure size 640x480 with 1 Axes>"
      ]
     },
     "metadata": {},
     "output_type": "display_data"
    }
   ],
   "source": [
    "k = 0\n",
    "d = 6\n",
    "L = 10\n",
    "M = Mk[k-1]\n",
    "\n",
    "\n",
    "plt.figure()\n",
    "\n",
    "for k in range(1, 5):\n",
    "    values = [compute_bound_practical(L, d, k, create_weights_ones, scale_weights_tight_common) for d in range(1, 10)]\n",
    "    plt.plot(range(1, 10), values, label=f'k={k}')\n",
    "# plt.axhline(M, c='k', ls='--')\n",
    "plt.legend()\n",
    "plt.show()"
   ]
  },
  {
   "cell_type": "code",
   "execution_count": 117,
   "id": "continuing-clearance",
   "metadata": {},
   "outputs": [
    {
     "data": {
      "text/plain": [
       "tensor([ 1.5872e-02,  9.2308e-04,  8.2121e-05,  9.0582e-05, -5.0884e-07,\n",
       "         6.4151e-06, -1.0871e-10,  4.6449e-08,  0.0000e+00],\n",
       "       dtype=torch.float64)"
      ]
     },
     "execution_count": 117,
     "metadata": {},
     "output_type": "execute_result"
    }
   ],
   "source": [
    "torch.tensor(ones_tightcommon) - torch.tensor(uniform_tightcommon)"
   ]
  },
  {
   "cell_type": "code",
   "execution_count": null,
   "id": "actual-lafayette",
   "metadata": {},
   "outputs": [],
   "source": [
    "L = 3\n",
    "d = 5\n",
    "Mk = torch.tensor([\n",
    "    1, 1, 4, 26, 236, 2752, 39208, 660032, 12818912\n",
    "])\n",
    "k_max = len(Mk)\n",
    "kvec = torch.arange(1, k_max+1)\n",
    "\n",
    "ones_tightcommon = [compute_bound_practical(L, d, ki, torch.ones, scale_weights_tight_common)for ki in kvec]\n",
    "uniform_tightcommon = [compute_bound_practical(L, d, ki, torch.rand, scale_weights_tight_common) for ki in kvec]\n",
    "normal_tightcommon = [compute_bound_practical(L, d, ki, build_weights_sample_normal(0., 1.), scale_weights_tight_common) for ki in kvec]\n",
    "\n",
    "\n",
    "plt.figure()\n",
    "plt.semilogy(kvec, ones_tightcommon, label=\"1\")\n",
    "plt.semilogy(kvec, uniform_tightcommon, label=\"$\\mathcal{U}$\")\n",
    "plt.semilogy(kvec, normal_tightcommon, label=\"$\\mathcal{N}$\")\n",
    "plt.legend()\n",
    "plt.show()"
   ]
  }
 ],
 "metadata": {
  "kernelspec": {
   "display_name": "Python 3",
   "language": "python",
   "name": "python3"
  },
  "language_info": {
   "codemirror_mode": {
    "name": "ipython",
    "version": 3
   },
   "file_extension": ".py",
   "mimetype": "text/x-python",
   "name": "python",
   "nbconvert_exporter": "python",
   "pygments_lexer": "ipython3",
   "version": "3.8.10"
  }
 },
 "nbformat": 4,
 "nbformat_minor": 5
}
