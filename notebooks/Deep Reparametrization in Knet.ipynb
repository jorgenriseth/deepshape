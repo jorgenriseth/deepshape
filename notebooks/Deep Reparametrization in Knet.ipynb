{
 "cells": [
  {
   "cell_type": "markdown",
   "metadata": {},
   "source": [
    "### Knet.jl Implementation of Deep Reparametrization \n",
    "\n",
    "This notebook contains an attempt at implementing deep reparametrization of curves using Knet.jl. It is currently not working as hoped, due to problems with using the Autograd package.\n",
    "\n",
    "The implementation using Flux.jl (in another notebook) saw more success. "
   ]
  },
  {
   "cell_type": "code",
   "execution_count": 1,
   "metadata": {},
   "outputs": [],
   "source": [
    "using Knet\n",
    "using Plots\n",
    "using Reparam\n",
    "using LinearAlgebra"
   ]
  },
  {
   "cell_type": "code",
   "execution_count": 2,
   "metadata": {},
   "outputs": [
    {
     "data": {
      "text/plain": [
       "Main.dev"
      ]
     },
     "execution_count": 2,
     "metadata": {},
     "output_type": "execute_result"
    }
   ],
   "source": [
    "module dev\n",
    "using Knet\n",
    "\n",
    "function squaresum(x)\n",
    "    out = x[1]^2\n",
    "    for i in 2:length(x)\n",
    "        out += x[i]^2\n",
    "    end\n",
    "    out\n",
    "end\n",
    "\n",
    "function vecnorm2(x)\n",
    "    return sqrt(squaresum(x))\n",
    "end\n",
    "\n",
    "\n",
    "struct Qmap{T<:Function, TF<:Real}; c::T; h::TF; end\n",
    "(q::Qmap)(x) = sqrt(vecnorm2(0.5 * (q.c(x+q.h) - q.c(x-q.h)) / q.h)) * q.c(x)\n",
    "\n",
    "\n",
    "struct SineLayer; N; c; end \n",
    "SineLayer(c) = SineLayer(length(c), Param(c))\n",
    "\n",
    "function (S::SineLayer)(x, y)\n",
    "    z = sin.(π*x) * S.c[1]\n",
    "    y1 = π * cos.(π*x) * S.c[1]\n",
    "    for n in 2:S.N\n",
    "        z += sin.(n*π*x) * S.c[n]\n",
    "        y1 += n * π * cos.(n*π*x) * S.c[n]\n",
    "    end\n",
    "    return x .+ z, (1. .+ y1 ) .* y\n",
    "end\n",
    "\n",
    "(S::SineLayer)(x::AbstractVector) = S(x, ones(size(x)...))\n",
    "(S::SineLayer)(x) = S(x...)\n",
    "\n",
    "struct Chain; layers; Chain(args...) = new(args); end\n",
    "(c::Chain)(x) = (for l in c.layers; x = l(x); end; x)\n",
    "function (c::Chain)(x, r)\n",
    "    y=x\n",
    "    for l in c.layers\n",
    "        y = l(y)\n",
    "    end\n",
    "    z, y = y\n",
    "    println.((z, y))\n",
    "    sqrt.(y) .* r.(z)\n",
    "end\n",
    "\n",
    "function (c::Chain)(x, q, r)\n",
    "    z, y = c(x)\n",
    "    Q = q.(x)\n",
    "    println(size(Q))\n",
    "    println(size(z))\n",
    "    println(size(y))\n",
    "    println(size(sqrt.(y)))\n",
    "    println(size(r.(z)))\n",
    "    R = sqrt.(y) .* r.(z)\n",
    "    println.((size(Q), size(R)))\n",
    "    E = q.(x) - sqrt.(y) .* r.(z)\n",
    "    sum(squaresum.(E))\n",
    "end\n",
    "end # module"
   ]
  },
  {
   "cell_type": "code",
   "execution_count": 3,
   "metadata": {},
   "outputs": [
    {
     "data": {
      "text/plain": [
       "Main.dev.Chain((Main.dev.SineLayer(2, P(Array{Float64,1}(2))),))"
      ]
     },
     "execution_count": 3,
     "metadata": {},
     "output_type": "execute_result"
    }
   ],
   "source": [
    "# Define test curves and reparametrization\n",
    "c(t) = [cos(2π*t), sin(2π*t)]\n",
    "γ(t) = 0.9t^2 + 0.1t\n",
    "ψ(t) = 0.5 * log(20t + 1) / log(21) + 0.25 * (1 + tanh(20*(t-0.5))/tanh(21))\n",
    "# c2 = c ∘ γ\n",
    "c2 = c∘ψ\n",
    "\n",
    "# Get Q-maps\n",
    "q = dev.Qmap(c, 1e-4)\n",
    "r = dev.Qmap(c2, 1e-4)\n",
    "\n",
    "\n",
    "# Define a \"batch\" of K test points\n",
    "K = 4\n",
    "X = range(0, 1, length=K)\n",
    "\n",
    "\n",
    "# Define a SineLayer with N basis functions\n",
    "N = 2\n",
    "S = dev.SineLayer(zeros(N))\n",
    "\n",
    "\n",
    "# Define a chain model with single sinelayer\n",
    "model = dev.Chain(dev.SineLayer(0.1*ones(N)))"
   ]
  },
  {
   "cell_type": "code",
   "execution_count": 4,
   "metadata": {},
   "outputs": [
    {
     "data": {
      "text/plain": [
       "4-element Array{Array{Float64,1},1}:\n",
       " [2.506628192166236, 0.0]\n",
       " [-1.2533140960830362, 2.170803692258082]\n",
       " [-1.2533140960832372, -2.170803692258426]\n",
       " [2.506628192166512, -6.139468384378472e-16]"
      ]
     },
     "execution_count": 4,
     "metadata": {},
     "output_type": "execute_result"
    }
   ],
   "source": [
    "Q = q.(X)"
   ]
  },
  {
   "cell_type": "code",
   "execution_count": 5,
   "metadata": {},
   "outputs": [
    {
     "data": {
      "text/plain": [
       "([0.0, 0.506538414090221, 0.6666666666666666, 1.0], [1.942477796076938, 0.8429203673205106, 0.5287611019615308, 1.3141592653589793])"
      ]
     },
     "execution_count": 5,
     "metadata": {},
     "output_type": "execute_result"
    }
   ],
   "source": [
    "Z, Y = model(X)"
   ]
  },
  {
   "cell_type": "code",
   "execution_count": 6,
   "metadata": {},
   "outputs": [
    {
     "data": {
      "text/plain": [
       "4-element Array{Array{Float64,1},1}:\n",
       " [4.542871816332296, 2.9416481144703133e-8]\n",
       " [-2.4929078683336274, -5.150164275760763]\n",
       " [1.1657567171920322, -0.4902722041884899]\n",
       " [0.9913357194507286, -6.419202003260748e-9]"
      ]
     },
     "execution_count": 6,
     "metadata": {},
     "output_type": "execute_result"
    }
   ],
   "source": [
    "r.(Z)"
   ]
  },
  {
   "cell_type": "code",
   "execution_count": 7,
   "metadata": {},
   "outputs": [
    {
     "data": {
      "text/plain": [
       "4-element Array{Array{Float64,1},1}:\n",
       " [4.542871816332296, 2.9416481144703133e-8]\n",
       " [-0.8609518048126881, 1.4526356044536957]\n",
       " [1.1657567171920322, -0.4902722041884899]\n",
       " [0.9913357194507286, -6.419202003260748e-9]"
      ]
     },
     "execution_count": 7,
     "metadata": {},
     "output_type": "execute_result"
    }
   ],
   "source": [
    "r.(X)"
   ]
  },
  {
   "cell_type": "code",
   "execution_count": 8,
   "metadata": {},
   "outputs": [
    {
     "data": {
      "text/plain": [
       "4-element Array{Array{Float64,1},1}:\n",
       " [6.331527745510464, 4.0998574045909125e-8]\n",
       " [-2.2887560337648036, -4.728401603107244]\n",
       " [0.847691202670793, -0.3565061459870112]\n",
       " [1.136435405050931, -7.358766849157151e-9]"
      ]
     },
     "execution_count": 8,
     "metadata": {},
     "output_type": "execute_result"
    }
   ],
   "source": [
    "R = sqrt.(Y) .* r.(Z)"
   ]
  }
 ],
 "metadata": {
  "@webio": {
   "lastCommId": null,
   "lastKernelId": null
  },
  "kernelspec": {
   "display_name": "Julia 1.5.1",
   "language": "julia",
   "name": "julia-1.5"
  },
  "language_info": {
   "file_extension": ".jl",
   "mimetype": "application/julia",
   "name": "julia",
   "version": "1.5.1"
  }
 },
 "nbformat": 4,
 "nbformat_minor": 4
}
