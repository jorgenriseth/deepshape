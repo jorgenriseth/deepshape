{
 "cells": [
  {
   "cell_type": "code",
   "execution_count": 1,
   "id": "aba39ccb",
   "metadata": {},
   "outputs": [],
   "source": [
    "%load_ext autoreload\n",
    "%autoreload 2"
   ]
  },
  {
   "cell_type": "markdown",
   "id": "d79406ac",
   "metadata": {},
   "source": [
    "# Diffeomorphisms and Derivative Bounds"
   ]
  },
  {
   "cell_type": "markdown",
   "id": "caf5a929",
   "metadata": {},
   "source": [
    "In this notebook we attempt to visualize the theoretical bounds of the $C^k$-norms of vector fields on the form\n",
    "$$\n",
    "    f_L \\circ ... \\circ f_1 - id_\\Omega,\n",
    "$$\n",
    "as given in the Theorem 4.1 of the shape-paper. Moreover, we want to compare theese bounds to the norms achieved in practice. The best way to visualize the practically achieved norms will have to be determined after some experimentation, but 2 ideas come to mind:\n",
    "\n",
    "1. Create functions from random weights samples. Plot average, median max and min achieved amongst these functions.\n",
    "2. Create randomly sampled \"weight directions\". See how the norms differ as I make the size of the weights direction larger.\n",
    "\n",
    "\n",
    "Before I can perform the experiments I need to do the following:\n",
    "- [ ] Find the exact definition of the $C^k$-norms with vector valued functions.\n",
    "- [ ] Implement n-th derivatives in pytorch.\n",
    "    - [x] 1D\n",
    "    - [ ] 2D\n",
    "- [x] Implement functions sampling approach.\n",
    "- [x] Plot the listed values for $M_k$ upper bound.\n",
    "- [x] Implement a $C^k$-norm finder (e.g. sampling from domain, and plotting max-norm."
   ]
  },
  {
   "cell_type": "markdown",
   "id": "0176a574",
   "metadata": {},
   "source": [
    "## Derivatives and $C^k$-norms"
   ]
  },
  {
   "cell_type": "markdown",
   "id": "8e110d13",
   "metadata": {},
   "source": [
    "Cases:\n",
    "* 1D input -> 1D output\n",
    "* 2D input -> 2D output\n",
    "\n",
    "We start with the simple case of one-dimensional diffeomorphisms. Then\n",
    "$$\n",
    "    \\|f\\|_{C^k} = \\sup_{x\\in\\Omega} |f^{(k)}(x)| \\approx \\max_{x_i \\in X} |f(x_i)|\n",
    "$$\n",
    "where $X = {x_i}$ is \"tight\" collection of points on $\\Omega$."
   ]
  },
  {
   "cell_type": "markdown",
   "id": "5df5c7a6",
   "metadata": {},
   "source": [
    "### Theoretical Bound"
   ]
  },
  {
   "cell_type": "code",
   "execution_count": 2,
   "id": "184cf674",
   "metadata": {},
   "outputs": [],
   "source": [
    "import deepshape as ds\n",
    "import matplotlib.pyplot as plt\n",
    "import numpy as np\n",
    "import torch\n",
    "\n",
    "\n",
    "from numpy import pi\n",
    "from torch import sin\n",
    "from torch.autograd import grad"
   ]
  },
  {
   "cell_type": "code",
   "execution_count": 3,
   "id": "df84ad5b",
   "metadata": {},
   "outputs": [
    {
     "data": {
      "image/png": "[encoded data removed]",
      "text/plain": [
       "<Figure size 432x288 with 1 Axes>"
      ]
     },
     "metadata": {
      "needs_background": "light"
     },
     "output_type": "display_data"
    }
   ],
   "source": [
    "import torch\n",
    "\n",
    "Mk = torch.tensor([\n",
    "    1, 1, 4, 26, 236, 2752, 39208, 660032, 12818912#, 282137824\n",
    "])\n",
    "k_max = len(Mk)\n",
    "plt.semilogy(Mk, 'o')\n",
    "plt.xlabel('$k$')\n",
    "plt.ylabel(\"$M_k$\")\n",
    "plt.show()"
   ]
  },
  {
   "cell_type": "markdown",
   "id": "e2adce64",
   "metadata": {},
   "source": [
    "### Derivatives of One-Dimensional Functions"
   ]
  },
  {
   "cell_type": "markdown",
   "id": "e85e2023",
   "metadata": {},
   "source": [
    "Start with implementing derivatives for functions $f: \\mathbb{R} \\to \\mathbb{R} $. As a test-case we use the function\n",
    "$$\n",
    "    f(x) = x^4.\n",
    "$$\n",
    "\n",
    "Then\n",
    "$$\n",
    "    f'(x) = 4x^3\\\\\n",
    "    f''(x) = 12  x^2\\\\\n",
    "    f'''(x) = 24  x\\\\\n",
    "    f^{(4)}(x) = 24.\\\\\n",
    "    f^{(n)}(x) = 0. \\; n\\geq 5.\n",
    "$$"
   ]
  },
  {
   "cell_type": "markdown",
   "id": "7284de90",
   "metadata": {},
   "source": [
    "Since we want to check for multiple points $x_i$ simoultaneously, let $g: \\mathbb{R}^N \\to \\mathbb{R}^N$ be defined by \n",
    "$$\n",
    "    g(X) = \\sum_{x_i \\in X} f(x_i).\n",
    "$$\n",
    "Then $$\\partial_{x_i} g(X) = f'(x_i),$$ such that the gradient of g is just the collections of derivatives."
   ]
  },
  {
   "cell_type": "code",
   "execution_count": 4,
   "id": "5e9a092a",
   "metadata": {},
   "outputs": [
    {
     "name": "stdout",
     "output_type": "stream",
     "text": [
      "True\n",
      "True\n",
      "True\n",
      "True\n",
      "True\n",
      "True\n"
     ]
    }
   ],
   "source": [
    "def torch_nth_derivative(f, x, n):\n",
    "    if x.requires_grad:\n",
    "        detach = False\n",
    "    else:\n",
    "        detach = True\n",
    "        x.requires_grad = True\n",
    "    \n",
    "    g = f(x).sum()\n",
    "    dx = f(x)\n",
    "\n",
    "    for i in range(n):\n",
    "        dx = grad(g, x, create_graph=True)[0]\n",
    "        g = dx.sum()\n",
    "        \n",
    "    if detach:\n",
    "        x.requires_grad = False\n",
    "        return dx.detach()\n",
    "    \n",
    "    return dx\n",
    "\n",
    "test_function = {\n",
    "    0: lambda x: x**4,\n",
    "    1: lambda x: 4 * x**3,\n",
    "    2: lambda x: 12 * x**2,\n",
    "    3: lambda x: 24 * x,\n",
    "    4: lambda x: 24 * torch.ones_like(x),\n",
    "    5: lambda x: torch.zeros_like(x)\n",
    "}\n",
    "f = test_function[0]\n",
    "\n",
    "\n",
    "# Check derivatives of f up to order 5\n",
    "x = torch.linspace(0, 1, 101)\n",
    "for n in range(6):\n",
    "    print(torch.allclose(torch_nth_derivative(test_function[0], x, n), test_function[n](x)))"
   ]
  },
  {
   "cell_type": "code",
   "execution_count": 5,
   "id": "e6da8395",
   "metadata": {},
   "outputs": [
    {
     "name": "stdout",
     "output_type": "stream",
     "text": [
      "True\n",
      "True\n",
      "True\n",
      "True\n",
      "True\n",
      "True\n",
      "True\n",
      "True\n",
      "True\n",
      "True\n"
     ]
    }
   ],
   "source": [
    "def idty(x):\n",
    "    return x\n",
    "\n",
    "def sin_vector_field(weights):\n",
    "    n = weights.numel()\n",
    "    N = torch.arange(1, n+1, dtype=torch.float32)\n",
    "    weights = weights.float()\n",
    "    \n",
    "    def evaluate(x):\n",
    "        return (weights * torch.sin(pi * N * x) / (pi * N)).sum(dim=-1, keepdims=True)\n",
    "    \n",
    "    return evaluate\n",
    "\n",
    "# Test\n",
    "x = torch.linspace(0, 1, 101).reshape(-1, 1)\n",
    "for i in range(1, 6):\n",
    "    w = torch.zeros(5)\n",
    "    w[i-1] = 1.\n",
    "    fi = sin_vector_field(w)\n",
    "    print(torch.allclose(fi(x), torch.sin(pi * i * x)/ (pi * i), atol=1e-6))\n",
    "    print(torch.allclose(torch_nth_derivative(fi, x, 1), torch.cos(pi * i * x), atol=1e-6))"
   ]
  },
  {
   "cell_type": "markdown",
   "id": "c0a84d06",
   "metadata": {},
   "source": [
    "### Practical Bounds on Derivatives"
   ]
  },
  {
   "cell_type": "markdown",
   "id": "3142a598",
   "metadata": {},
   "source": [
    "Finding the function bounds for these functions in practice requires some kind of random sampling of functions, or a predetermined way of choosing the weights.\n",
    "\n",
    "We first attempt a deterministic approach for choosing these bounds; Choose a weight vector on the form $ w = a\\mathbb{1}$ for some scalar a, and investigate how the bound develops as we increase the value of $a$. In this setting, we are able to modify two parameters:\n",
    "* $L$ : The number of layers.\n",
    "* $n$ : The number of basis functions per layer."
   ]
  },
  {
   "cell_type": "code",
   "execution_count": 103,
   "id": "553e447b",
   "metadata": {},
   "outputs": [],
   "source": [
    "def grid_evaluate(f, N):\n",
    "    xx = torch.linspace(0, 1, N).reshape(-1, 1)\n",
    "    return f(xx)\n",
    "\n",
    "def approx_max_norm(f, k=0, npoints=int(1e4)):\n",
    "    xx = torch.linspace(0, 1, npoints).view(-1, 1)\n",
    "    df = torch_nth_derivative(f, xx, n=k)\n",
    "    return df.norm(np.inf)\n",
    "\n",
    "def compose_vector_fields(vecfield_collection):\n",
    "    def evaluate(x):\n",
    "        y = x\n",
    "        for fl in vecfield_collection:\n",
    "            y = y + fl(y)\n",
    "        return y - x\n",
    "    return evaluate\n",
    "\n",
    "def compute_composed_bound(function_collection, k=0, npoints=int(1e4)):\n",
    "    F = compose_vector_fields(function_collection)\n",
    "    field_sum = float(torch.stack(\n",
    "        [approx_max_norm(fi, k=k, npoints=npoints) for fi in function_collection]).sum())\n",
    "    return approx_max_norm(F, k) / (np.exp(k) * field_sum)"
   ]
  },
  {
   "cell_type": "code",
   "execution_count": 77,
   "id": "21293ee1",
   "metadata": {},
   "outputs": [
    {
     "data": {
      "image/png": "[encoded data removed]",
      "text/plain": [
       "<Figure size 432x288 with 1 Axes>"
      ]
     },
     "metadata": {
      "needs_background": "light"
     },
     "output_type": "display_data"
    },
    {
     "name": "stdout",
     "output_type": "stream",
     "text": [
      "tensor(0.0092)\n"
     ]
    }
   ],
   "source": [
    "n = 1  # Number of basis functions per vector field.\n",
    "k = 1  # Derivative order (for C^k norms)\n",
    "m = 1  # Number of samples (not needed for deterministic functions)\n",
    "L = 4  # Number of layers in composition\n",
    "\n",
    "a = 1.  #  Scaling coefficient\n",
    "w = a * torch.ones(n)  # Weight vector\n",
    "\n",
    "\n",
    "x = torch.linspace(0, 1, 401).view(-1, 1)\n",
    "f = sin_vector_field(w)\n",
    "collection = [lambda x: f(x) for _ in range(L)]\n",
    "F = compose_vector_fields(collection)\n",
    "\n",
    "plt.figure()\n",
    "plt.plot(x, f(x))\n",
    "plt.plot(x, F(x))\n",
    "plt.show()\n",
    "\n",
    "\n",
    "print(compute_composed_bound(collection, k=3))"
   ]
  },
  {
   "cell_type": "code",
   "execution_count": null,
   "id": "de864b89",
   "metadata": {},
   "outputs": [
    {
     "name": "stdout",
     "output_type": "stream",
     "text": [
      "=== L: 1 ===\n",
      "=== L: 3 ===\u001b[F\n",
      "=== L: 5 ===\u001b[F\n",
      "=== L: 8 ===\u001b[F\n",
      "--- k: 9 ---\u001b[F\r"
     ]
    }
   ],
   "source": [
    "n = 6\n",
    "a = 6.  #  Scaling coefficient\n",
    "w = a * torch.ones(n)  # Weight vector\n",
    "f = sin_vector_field(w)\n",
    "L_list = [1, 3, 5, 8]\n",
    "\n",
    "mk = {}\n",
    "for L in L_list:\n",
    "    print(f\"=== L: {L} ===\")\n",
    "    collection = [lambda x: f(x) for _ in range(L)]\n",
    "    mk[L] = torch.empty(k_max)\n",
    "    for k in range(1, k_max+1):\n",
    "        print(f\"--- k: {k} ---\", end=\"\\033[F\\r\")\n",
    "        mk[L][k-1] = compute_composed_bound(collection, k=k)\n",
    "    print(\"\", end='\\033[F \\033[F'+'\\r')\n",
    "\n",
    "plt.figure()\n",
    "plt.semilogy(range(1, k_max+1), Mk, 'ko', label=\"$M_k$\")\n",
    "[plt.semilogy(range(1, k_max+1), mk[L], label=f\"L={L}\") for L in L_list]\n",
    "plt.legend()\n",
    "plt.show()"
   ]
  },
  {
   "cell_type": "markdown",
   "id": "3ba3b659",
   "metadata": {},
   "source": [
    "#### Sampling Functions "
   ]
  },
  {
   "cell_type": "code",
   "execution_count": 29,
   "id": "8b3fc578",
   "metadata": {},
   "outputs": [],
   "source": [
    "def random_sample_normal(n, mean=0.0, std=1.0):\n",
    "    return sin_vector_field(mean + std * torch.randn(n))\n",
    "\n",
    "def grid_evaluate(f, N):\n",
    "    xx = torch.linspace(0, 1, N).reshape(-1, 1)\n",
    "    return f(xx)\n",
    "\n",
    "def approx_max_norm(f, N=10000):\n",
    "    return grid_evaluate(f, N).norm(np.inf)\n",
    "\n",
    "def compose_vector_fields(vecfield_collection):\n",
    "    L = len(vecfield_collection)\n",
    "    def evaluate(x):\n",
    "        L = len(vecfield_collection)\n",
    "        y = x\n",
    "        for fl in vecfield_collection:\n",
    "            y = y + fl(y)\n",
    "        return y - x\n",
    "    return evaluate\n",
    "\n",
    "def compute_composed_bound(function_collection, k=0):\n",
    "    F = compose_vector_fields(function_samples)\n",
    "    field_sum = sum([float(approx_max_norm(fi)) for fi in function_collection])\n",
    "    return approx_max_norm(F) / (np.exp(k * field_sum) * field_sum)"
   ]
  },
  {
   "cell_type": "code",
   "execution_count": 70,
   "id": "f3682aaa",
   "metadata": {},
   "outputs": [
    {
     "name": "stdout",
     "output_type": "stream",
     "text": [
      "tensor(0.3968)\n",
      "tensor(0.3292)\n",
      "tensor(0.3037)\n"
     ]
    },
    {
     "ename": "NameError",
     "evalue": "name 'xx' is not defined",
     "output_type": "error",
     "traceback": [
      "\u001b[0;31m---------------------------------------------------------------------------\u001b[0m",
      "\u001b[0;31mNameError\u001b[0m                                 Traceback (most recent call last)",
      "\u001b[0;32m<ipython-input-70-cc8e508b6f42>\u001b[0m in \u001b[0;36m<module>\u001b[0;34m\u001b[0m\n\u001b[1;32m     18\u001b[0m \u001b[0mplt\u001b[0m\u001b[0;34m.\u001b[0m\u001b[0mfigure\u001b[0m\u001b[0;34m(\u001b[0m\u001b[0;34m)\u001b[0m\u001b[0;34m\u001b[0m\u001b[0;34m\u001b[0m\u001b[0m\n\u001b[1;32m     19\u001b[0m \u001b[0;32mfor\u001b[0m \u001b[0mfi\u001b[0m \u001b[0;32min\u001b[0m \u001b[0mfunction_samples\u001b[0m\u001b[0;34m:\u001b[0m\u001b[0;34m\u001b[0m\u001b[0;34m\u001b[0m\u001b[0m\n\u001b[0;32m---> 20\u001b[0;31m     \u001b[0mplt\u001b[0m\u001b[0;34m.\u001b[0m\u001b[0mplot\u001b[0m\u001b[0;34m(\u001b[0m\u001b[0mxx\u001b[0m\u001b[0;34m,\u001b[0m \u001b[0mfi\u001b[0m\u001b[0;34m(\u001b[0m\u001b[0mxx\u001b[0m\u001b[0;34m)\u001b[0m\u001b[0;34m)\u001b[0m\u001b[0;34m\u001b[0m\u001b[0;34m\u001b[0m\u001b[0m\n\u001b[0m\u001b[1;32m     21\u001b[0m \u001b[0mplt\u001b[0m\u001b[0;34m.\u001b[0m\u001b[0mshow\u001b[0m\u001b[0;34m(\u001b[0m\u001b[0;34m)\u001b[0m\u001b[0;34m\u001b[0m\u001b[0;34m\u001b[0m\u001b[0m\n\u001b[1;32m     22\u001b[0m \u001b[0;34m\u001b[0m\u001b[0m\n",
      "\u001b[0;31mNameError\u001b[0m: name 'xx' is not defined"
     ]
    },
    {
     "data": {
      "text/plain": [
       "<Figure size 432x288 with 0 Axes>"
      ]
     },
     "metadata": {},
     "output_type": "display_data"
    }
   ],
   "source": [
    "M = 3\n",
    "K = 1024**6\n",
    "K = 2 \n",
    "\n",
    "# Evaluate function samples.\n",
    "function_samples = [random_sample_normal(30, mean=0., std=1.) for i in range(M)]\n",
    "function_evaluations = torch.cat([grid_evaluate(fi, K) for fi in function_samples], dim=-1)\n",
    "norms = torch.tensor([approx_max_norm(fi) for fi in function_samples])\n",
    "\n",
    "for fi in function_samples:\n",
    "    print(fi(x).norm(np.inf))\n",
    "# Compute some statistics\n",
    "mean = norms.mean()\n",
    "std = norms.std()\n",
    "ck_norm_max = norms.max()\n",
    "ck_norm_min = norms.min()\n",
    "\n",
    "plt.figure()\n",
    "for fi in function_samples:\n",
    "    plt.plot(x, fi(x))\n",
    "plt.show()\n",
    "\n",
    "plt.bar([0, 1, 2, 3], [mean, ck_norm_max, ck_norm_min, std])\n",
    "plt.xticks([0, 1, 2, 3], [\"mean\", \"max\", \"min\", \"std\"])\n",
    "plt.show()\n",
    "\n",
    "\n",
    "xx = torch.linspace(0, 1, 10000).view(-1, 1)\n",
    "F = compose_vector_fields(function_samples)\n",
    "plt.plot(xx, F(xx))\n",
    "plt.show()\n",
    "\n",
    "print(approx_max_norm(F))\n",
    "print(compute_composed_bound(function_samples))"
   ]
  },
  {
   "cell_type": "markdown",
   "id": "e798eac6",
   "metadata": {},
   "source": [
    "# Interesting Concept: Approximating $L^2$-functions by composition of Fourier Series"
   ]
  },
  {
   "cell_type": "markdown",
   "id": "098b7949",
   "metadata": {},
   "source": [
    "* Eliminating basis functions, by showing equality between fourier series representation of sawtooth, and composition-representation of sawtooth. "
   ]
  },
  {
   "cell_type": "code",
   "execution_count": 69,
   "id": "addbafc9",
   "metadata": {},
   "outputs": [
    {
     "data": {
      "image/png": "[encoded data removed]",
      "text/plain": [
       "<Figure size 432x288 with 1 Axes>"
      ]
     },
     "metadata": {
      "needs_background": "light"
     },
     "output_type": "display_data"
    },
    {
     "name": "stdout",
     "output_type": "stream",
     "text": [
      "1023.0\n"
     ]
    }
   ],
   "source": [
    "n = 1  # Number of basis functions per vector field.\n",
    "k = 1  # Derivative order (for C^k norms)\n",
    "m = 1  # Number of samples (not needed for deterministic functions)\n",
    "L = 10  # Number of layers in composition\n",
    "\n",
    "a = 1.  #  Scaling coefficient\n",
    "w = a * torch.ones(n)  # Weight vector\n",
    "# w = torch.zeros(n)\n",
    "# i = 5\n",
    "# w[i] = 1\n",
    "\n",
    "x = torch.linspace(0, 1, 301).view(-1, 1)\n",
    "f = sin_vector_field(w)\n",
    "F = compose_vector_fields([lambda x: f(x) for _ in range(L)])\n",
    "\n",
    "plt.figure()\n",
    "plt.plot(x, f(x))\n",
    "plt.plot(x, F(x))\n",
    "plt.show()\n",
    "\n",
    "print(float(approx_max_norm(lambda x: torch_nth_derivative(F, x, k))))"
   ]
  },
  {
   "cell_type": "code",
   "execution_count": null,
   "id": "d5783195",
   "metadata": {},
   "outputs": [],
   "source": []
  }
 ],
 "metadata": {
  "@webio": {
   "lastCommId": null,
   "lastKernelId": null
  },
  "kernelspec": {
   "display_name": "Python 3",
   "language": "python",
   "name": "python3"
  },
  "language_info": {
   "codemirror_mode": {
    "name": "ipython",
    "version": 3
   },
   "file_extension": ".py",
   "mimetype": "text/x-python",
   "name": "python",
   "nbconvert_exporter": "python",
   "pygments_lexer": "ipython3",
   "version": "3.8.5"
  }
 },
 "nbformat": 4,
 "nbformat_minor": 5
}
